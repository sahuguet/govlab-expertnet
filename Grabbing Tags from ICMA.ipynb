{
 "metadata": {
  "name": ""
 },
 "nbformat": 3,
 "nbformat_minor": 0,
 "worksheets": [
  {
   "cells": [
    {
     "cell_type": "heading",
     "level": 1,
     "metadata": {},
     "source": [
      "Import the important libraries"
     ]
    },
    {
     "cell_type": "code",
     "collapsed": false,
     "input": [
      "import urllib2\n",
      "import time\n",
      "from bs4 import BeautifulSoup"
     ],
     "language": "python",
     "metadata": {},
     "outputs": [],
     "prompt_number": 29
    },
    {
     "cell_type": "heading",
     "level": 1,
     "metadata": {},
     "source": [
      "Main function that process one page at a time, based on index value"
     ]
    },
    {
     "cell_type": "code",
     "collapsed": false,
     "input": [
      "def getPage(index):\n",
      "    html_doc = urllib2.urlopen('http://icma.org/en/icma/knowledge_network/topics/kn/Topic/%d' % index).read()\n",
      "    soup = BeautifulSoup(html_doc)\n",
      "    return soup.title.text.split('|')[0].strip()"
     ],
     "language": "python",
     "metadata": {},
     "outputs": [],
     "prompt_number": 30
    },
    {
     "cell_type": "heading",
     "level": 1,
     "metadata": {},
     "source": [
      "Main loop iterating over indexes"
     ]
    },
    {
     "cell_type": "code",
     "collapsed": false,
     "input": [
      "tags = []\n",
      "for i in range(1,50):\n",
      "    try:\n",
      "        tags.append(getPage(i))\n",
      "    except urllib2.HTTPError:\n",
      "        pass\n",
      "    time.sleep(1)"
     ],
     "language": "python",
     "metadata": {},
     "outputs": [],
     "prompt_number": 33
    },
    {
     "cell_type": "code",
     "collapsed": false,
     "input": [
      "for tag in tags:\n",
      "    print tag"
     ],
     "language": "python",
     "metadata": {},
     "outputs": [
      {
       "output_type": "stream",
       "stream": "stdout",
       "text": [
        "311/CRM Systems\n",
        "Aging\n",
        "Animal Control\n",
        "Benchmarking\n",
        "Brownfields\n",
        "Business Retention\n",
        "Career Resources\n",
        "Elected Officials\n",
        "Children and Youth\n",
        "Citizen Engagement\n",
        "Citizen Education\n",
        "Citizen Surveys\n",
        "Codes of Ethics\n"
       ]
      }
     ],
     "prompt_number": 35
    },
    {
     "cell_type": "heading",
     "level": 1,
     "metadata": {},
     "source": [
      "A better way"
     ]
    },
    {
     "cell_type": "markdown",
     "metadata": {},
     "source": [
      "There might be a better way of doing it.\n",
      "\n",
      "Audrey found a page where all the tags seem to be present. So, let's try to grab the tags from there.\n",
      "\n",
      "These tags are displayed as a tags with a special class called `TagLink`."
     ]
    },
    {
     "cell_type": "code",
     "collapsed": false,
     "input": [
      "tag_page = urllib2.urlopen('http://icma.org/en/icma/knowledge_network/topics').read()\n",
      "soup = BeautifulSoup(tag_page)\n",
      "tags = soup.findAll('a', attrs={\"class\": \"TagLink\"})"
     ],
     "language": "python",
     "metadata": {},
     "outputs": [],
     "prompt_number": 36
    },
    {
     "cell_type": "code",
     "collapsed": false,
     "input": [
      "sorted(set([t.text.strip() for t in tags]))"
     ],
     "language": "python",
     "metadata": {},
     "outputs": [
      {
       "metadata": {},
       "output_type": "pyout",
       "prompt_number": 50,
       "text": [
        "[u'311/CRM Systems',\n",
        " u'Add a topic...',\n",
        " u'Add an area of expertise...',\n",
        " u'Aging',\n",
        " u'Animal Control',\n",
        " u'Benchmarking',\n",
        " u'Brownfields',\n",
        " u'Business Retention',\n",
        " u'Career Resources',\n",
        " u'Children and Youth',\n",
        " u'Citizen Education',\n",
        " u'Citizen Engagement',\n",
        " u'Citizen Surveys',\n",
        " u'Climate Change',\n",
        " u'Code Enforcement',\n",
        " u'Codes of Ethics',\n",
        " u'Community Diversity',\n",
        " u'Contracts',\n",
        " u'Economic Crisis',\n",
        " u'Economic Development',\n",
        " u'Elected Officials',\n",
        " u'Emergency Management',\n",
        " u'Emergency Preparedness',\n",
        " u'Employee-Employer Relations',\n",
        " u'Energy Efficiency',\n",
        " u'Environment',\n",
        " u'Ethics',\n",
        " u'Finance and Budgeting',\n",
        " u'Fire/EMS',\n",
        " u'Fleets',\n",
        " u'Food Security',\n",
        " u'Form of Government',\n",
        " u'GASB',\n",
        " u'GIS',\n",
        " u'Gun Violence',\n",
        " u'Health',\n",
        " u'Healthy Living',\n",
        " u'High Performance Organizations',\n",
        " u'Hiring',\n",
        " u'Housing & Community Development',\n",
        " u'Housing Code Enforcement',\n",
        " u'Human Resources',\n",
        " u'Incentives',\n",
        " u'Infrastructure Planning',\n",
        " u'Innovation',\n",
        " u'International Development',\n",
        " u'Labor-Management Relations',\n",
        " u'Leadership',\n",
        " u'Lean Government',\n",
        " u'Legal Issues',\n",
        " u'Libraries',\n",
        " u'Local Culture',\n",
        " u'Management',\n",
        " u'Military Base Reuse',\n",
        " u'Next Generation of Managers',\n",
        " u'Organizational Development',\n",
        " u'Parks and Recreation',\n",
        " u'Partnerships',\n",
        " u'Performance Management and Analytics',\n",
        " u'Personnel Matters',\n",
        " u'Planning',\n",
        " u'Police',\n",
        " u'Priority Based Budgeting',\n",
        " u'Privatization',\n",
        " u'Process Improvement',\n",
        " u'Public Health',\n",
        " u'Public Policy',\n",
        " u'Public Safety',\n",
        " u'Public Schools',\n",
        " u'Public Works',\n",
        " u'Railroads, Ports, Airports',\n",
        " u'Regionalism',\n",
        " u'Risk Management',\n",
        " u'Service Delivery',\n",
        " u'Shared Services',\n",
        " u'Social Media',\n",
        " u'Solar Energy',\n",
        " u'Strategic Planning',\n",
        " u'Sustainability',\n",
        " u'Technology',\n",
        " u'Telecommunications',\n",
        " u'Town and Gown',\n",
        " u'Transportation',\n",
        " u'Utilities',\n",
        " u'Volunteers',\n",
        " u'Waste & Sanitation',\n",
        " u'Water & Sanitation']"
       ]
      }
     ],
     "prompt_number": 50
    }
   ],
   "metadata": {}
  }
 ]
}